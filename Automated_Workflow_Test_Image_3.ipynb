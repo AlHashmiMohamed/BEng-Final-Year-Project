{
 "cells": [
  {
   "cell_type": "markdown",
   "id": "3f71cc49",
   "metadata": {},
   "source": [
    "# Oil Spill Detection Use Case Example on Test Image 3"
   ]
  },
  {
   "cell_type": "code",
   "execution_count": 2,
   "id": "005ceed8",
   "metadata": {},
   "outputs": [],
   "source": [
    "import asf_search as asf\n",
    "import getpass\n",
    "from os import listdir\n",
    "import pyroSAR\n",
    "from pyroSAR.snap.auxil import parse_recipe, parse_node, gpt, groupbyWorkers\n",
    "from pyroSAR.S1 import OSV\n",
    "from pyroSAR import identify\n",
    "import tensorflow as tf\n",
    "import rasterio\n",
    "from rasterio.plot import show\n",
    "from rasterio.features import shapes\n",
    "from rasterio.enums import Resampling\n",
    "from matplotlib import pyplot as plt\n",
    "import numpy as np\n",
    "import json\n",
    "from rasterio import features\n",
    "import shapely\n",
    "from shapely.geometry import Point, Polygon, MultiPolygon\n",
    "from shapely.ops import transform\n",
    "import folium\n",
    "from folium import plugins\n",
    "from folium import IFrame\n",
    "from folium.raster_layers import ImageOverlay\n",
    "import geopandas as gpd\n",
    "import pyproj\n",
    "import keras\n",
    "from patchify import patchify, unpatchify\n",
    "from skimage import io, exposure, data\n",
    "import cv2\n",
    "import time as t"
   ]
  },
  {
   "cell_type": "markdown",
   "id": "50e75e95",
   "metadata": {},
   "source": [
    "# Download Sentinel-1 image from Alaska Satellite Facility (ASF)"
   ]
  },
  {
   "cell_type": "code",
   "execution_count": 5,
   "id": "78b67d63",
   "metadata": {},
   "outputs": [
    {
     "name": "stdout",
     "output_type": "stream",
     "text": [
      "Username:mohammedkhalid056@gmail.com\n",
      "Password:········\n",
      "Success!\n"
     ]
    }
   ],
   "source": [
    "session = asf.ASFSession()\n",
    "\n",
    "username = input('Username:')\n",
    "password = getpass.getpass('Password:')\n",
    "\n",
    "try:\n",
    "    user_pass_session = asf.ASFSession().auth_with_creds(username, password)\n",
    "except asf.ASFAuthenticationError as e:\n",
    "    print(f'Auth failed: {e}')\n",
    "else:\n",
    "    print('Success!')"
   ]
  },
  {
   "cell_type": "code",
   "execution_count": 20,
   "id": "5522b006",
   "metadata": {
    "collapsed": true
   },
   "outputs": [],
   "source": [
    "directory = r'./'\n",
    "\n",
    "granule = 'S1A_IW_GRDH_1SDV_20220217T141650_20220217T141715_041954_04FEFA_F651'\n",
    "\n",
    "result = asf.granule_search(granule)\n",
    "# print(result)\n",
    "\n",
    "result.download(path=directory, session=user_pass_session)\n",
    "\n",
    "# listdir(directory)"
   ]
  },
  {
   "cell_type": "markdown",
   "id": "2d94c630",
   "metadata": {},
   "source": [
    "# Preprocess the Sentinel-1 image using SNAP API"
   ]
  },
  {
   "cell_type": "code",
   "execution_count": 21,
   "id": "b451291e",
   "metadata": {
    "collapsed": true
   },
   "outputs": [],
   "source": [
    "workflow = parse_recipe('blank')\n",
    "\n",
    "read = parse_node('Read')\n",
    "read.parameters['file'] = './S1A_IW_GRDH_1SDV_20220217T141650_20220217T141715_041954_04FEFA_F651.zip'\n",
    "read.parameters['formatName'] = 'SENTINEL-1'\n",
    "workflow.insert_node(read)\n",
    "\n",
    "orb = parse_node('Apply-Orbit-File')\n",
    "orb.parameters['orbitType'] = 'Sentinel Precise (Auto Download)'\n",
    "orb.parameters['continueOnFail'] = True\n",
    "workflow.insert_node(orb, before=read.id)\n",
    "\n",
    "# sbs = parse_node('Subset')\n",
    "# sbs.parameters['copyMetadata'] = True\n",
    "# sbs.parameters['sourceBands'] = ['VV']\n",
    "# workflow.insert_node(sbs, before=orb.id)\n",
    "\n",
    "tnr = parse_node('ThermalNoiseRemoval')\n",
    "tnr.parameters['removeThermalNoise'] = 'true'\n",
    "workflow.insert_node(tnr, before=orb.id)\n",
    "\n",
    "bnr = parse_node('Remove-GRD-Border-Noise')\n",
    "bnr.parameters['selectedPolarisations'] = ['VV']\n",
    "workflow.insert_node(bnr, before=tnr.id)\n",
    "\n",
    "lnd = parse_node('Land-Sea-Mask')\n",
    "lnd.parameters['landMask'] = 'true'\n",
    "workflow.insert_node(lnd, before=bnr.id)\n",
    "\n",
    "cal = parse_node('Calibration')\n",
    "cal.parameters['outputSigmaBand'] = 'true'\n",
    "cal.parameters['sourceBands'] = 'Intensity_VV'\n",
    "cal.parameters['selectedPolarisations'] = 'VH,VV'\n",
    "cal.parameters['outputImageScaleInDb'] = 'false'\n",
    "workflow.insert_node(cal, before=lnd.id)\n",
    "\n",
    "spk = parse_node('Speckle-Filter')\n",
    "spk.parameters['filter'] = 'Lee Sigma'\n",
    "spk.parameters['filterSizeX'] = '3'\n",
    "spk.parameters['filterSizeY'] = '3'\n",
    "workflow.insert_node(spk, before=cal.id)\n",
    "\n",
    "db = parse_node('LinearToFromdB')\n",
    "db.parameters['sourceBands'] = 'Sigma0_VV'\n",
    "workflow.insert_node(db, before=spk.id)\n",
    "\n",
    "und = parse_node('Undersample')\n",
    "und.parameters['method'] = 'LowPass Filtering'\n",
    "und.parameters['outputImageBy'] = 'Pixel Spacing'\n",
    "und.parameters['filterSize'] = '3x3'\n",
    "und.parameters['rangeSpacing'] = '80'\n",
    "und.parameters['azimuthSpacing'] = '80'\n",
    "workflow.insert_node(und, before=db.id)\n",
    "\n",
    "prj = parse_node('Ellipsoid-Correction-GG')\n",
    "prj.parameters['mapProjection'] = 'WGS84(DD)'\n",
    "workflow.insert_node(prj, before=und.id)\n",
    "\n",
    "write = parse_node('Write')\n",
    "write.parameters['file'] = '20220217T141650_preprocessed'\n",
    "write.parameters['formatName'] = 'GeoTIFF'\n",
    "workflow.insert_node(write, before=prj.id)\n",
    "\n",
    "workflow.write('20220217T141650_preprocessed')"
   ]
  },
  {
   "cell_type": "code",
   "execution_count": 22,
   "id": "e9da7c6e",
   "metadata": {},
   "outputs": [
    {
     "name": "stdout",
     "output_type": "stream",
     "text": [
      "executing node sequences..\n",
      "Apply-Orbit-File\n",
      "ThermalNoiseRemoval\n",
      "Remove-GRD-Border-Noise\n",
      "Land-Sea-Mask\n",
      "Calibration\n",
      "Speckle-Filter\n",
      "LinearToFromdB\n",
      "Undersample\n",
      "Ellipsoid-Correction-GG\n",
      "done\n",
      "time taken: 11.975548565387726 min\n"
     ]
    }
   ],
   "source": [
    "start = t.time()\n",
    "\n",
    "gpt(xmlfile = '20220217T141650_preprocessed.xml', outdir='./', groups=groupbyWorkers('20220217T141650_preprocessed.xml', n=1))\n",
    "\n",
    "end = t.time()\n",
    "time_taken = (end - start)/60\n",
    "print(f'time taken: {time_taken} min')"
   ]
  },
  {
   "cell_type": "markdown",
   "id": "531a95c4",
   "metadata": {},
   "source": [
    "# Prepare the data for deep learning model inference"
   ]
  },
  {
   "cell_type": "code",
   "execution_count": 15,
   "id": "8594a662",
   "metadata": {},
   "outputs": [],
   "source": [
    "def load_geotiff_image(file_path):\n",
    "    \"\"\"\n",
    "    A function that uses the rasterio library to read a GeoTIFF image and convert it into a numpy array\n",
    "    \"\"\"\n",
    "    \n",
    "    with rasterio.open(file_path) as dataset:\n",
    "\n",
    "        data = dataset.read()\n",
    "\n",
    "    #rearrage the order of the image channel from first to last\n",
    "    image = np.moveaxis(data, 0, -1)\n",
    "    return image\n",
    "\n",
    "def normalise(input_image):\n",
    "    n_image = (input_image - input_image.min()) / (input_image.max()- input_image.min())\n",
    "    return n_image\n",
    "\n",
    "def mask_to_polygons_layer(mask):\n",
    "    all_polygons = []\n",
    "    for shape, value in features.shapes(mask.astype(np.uint8), mask=(mask >0), connectivity=8, transform=transform):\n",
    "        all_polygons.append(shapely.geometry.shape(shape))\n",
    "\n",
    "    all_polygons = shapely.geometry.MultiPolygon(all_polygons)\n",
    "    if not all_polygons.is_valid:\n",
    "        all_polygons = all_polygons.buffer(0)\n",
    "        # Sometimes buffer() converts a simple Multipolygon to just a Polygon,\n",
    "        # need to keep it a Multi throughout\n",
    "        if all_polygons.type == 'Polygon':\n",
    "            all_polygons = shapely.geometry.MultiPolygon([all_polygons])\n",
    "    \n",
    "    return all_polygons\n",
    "\n",
    "def pad_image(image):\n",
    "    # Determine patch size and number of patches needed in each dimension\n",
    "    rows, cols, _ = image.shape\n",
    "    num_rows = rows // 512\n",
    "    num_cols = cols // 512\n",
    "    \n",
    "    # Calculate padding needed\n",
    "    pad_rows = 512 - (rows % 512)\n",
    "    pad_cols = 512 - (cols % 512)\n",
    "    \n",
    "    # ad the original image with the calculated padding\n",
    "    image_padded = np.pad(image, ((0, pad_rows), (0, pad_cols), (0, 0)), mode='constant')\n",
    "    return image_padded\n",
    "\n",
    "def unpad_image(image_padded, original_shape):\n",
    "    \"\"\"\n",
    "    Unpad a padded image back to its original size.\n",
    "\n",
    "    Args:\n",
    "        image_padded (numpy.ndarray): Padded image.\n",
    "        original_image: Original image with shape (height, width, channels).\n",
    "\n",
    "    Returns:\n",
    "        numpy.ndarray: Unpadded image.\n",
    "    \"\"\"\n",
    "    # Extract original shape\n",
    "    original_rows = original_shape[:,:,0].shape[0]\n",
    "    original_cols = original_shape[:,:,0].shape[1]\n",
    "    \n",
    "    # Slice the padded image to the original shape\n",
    "    image_unpadded = image_padded[:original_rows, :original_cols]\n",
    "    \n",
    "    return image_unpadded\n",
    "\n",
    "def remove_small_regions(mask, min_size):\n",
    "    # Perform morphological opening on the mask using a rectangular kernel\n",
    "    kernel = cv2.getStructuringElement(cv2.MORPH_RECT, (3, 3))\n",
    "    opened_mask = cv2.morphologyEx(mask.astype(np.uint8), cv2.MORPH_OPEN, kernel)\n",
    "\n",
    "    # Find all connected components in the opened mask\n",
    "    num_labels, labels, stats, _ = cv2.connectedComponentsWithStats(opened_mask, connectivity=8)\n",
    "\n",
    "    # Remove small regions by setting them to background\n",
    "    cleaned_mask = np.zeros_like(mask)\n",
    "    for label in range(1, num_labels):\n",
    "        if stats[label, cv2.CC_STAT_AREA] >= min_size:\n",
    "            cleaned_mask[labels == label] = 1\n",
    "\n",
    "    return cleaned_mask"
   ]
  },
  {
   "cell_type": "code",
   "execution_count": 10,
   "id": "370340ee",
   "metadata": {},
   "outputs": [
    {
     "name": "stdout",
     "output_type": "stream",
     "text": [
      "Before padding: (2682, 3949, 1)\n",
      "After padding: (3072, 4096, 1)\n"
     ]
    }
   ],
   "source": [
    "unpadded_large_image = load_geotiff_image('./20220217T141650_preprocessed.tif')\n",
    "\n",
    "unpadded_large_image = np.array(unpadded_large_image)\n",
    "unpadded_large_image[np.isnan(unpadded_large_image)] = 0\n",
    "\n",
    "print(\"Before padding:\", unpadded_large_image.shape)\n",
    "padded_large_image = pad_image(unpadded_large_image)\n",
    "print(\"After padding:\", padded_large_image.shape)"
   ]
  },
  {
   "cell_type": "code",
   "execution_count": 11,
   "id": "d8356342",
   "metadata": {},
   "outputs": [
    {
     "data": {
      "image/png": "[encoded data removed]",
      "text/plain": [
       "<Figure size 640x480 with 1 Axes>"
      ]
     },
     "metadata": {},
     "output_type": "display_data"
    }
   ],
   "source": [
    "plt.title(\"Original Image\")\n",
    "plt.imshow(padded_large_image[:, :, 0], cmap='gray')\n",
    "plt.show()"
   ]
  },
  {
   "cell_type": "markdown",
   "id": "25a974e4",
   "metadata": {},
   "source": [
    "# Pass the image into the model"
   ]
  },
  {
   "cell_type": "code",
   "execution_count": 12,
   "id": "d5e418e4",
   "metadata": {},
   "outputs": [],
   "source": [
    "unet = keras.models.load_model('/home/users/b90068501/diss/unet_200epc_aug_best_20230330.h5', compile=False)\n",
    "deeplab = keras.models.load_model('/home/users/b90068501/diss/deeplabv3_200epc_aug_best_20230330.h5', compile=False)"
   ]
  },
  {
   "cell_type": "code",
   "execution_count": 13,
   "id": "2e389c69",
   "metadata": {},
   "outputs": [
    {
     "name": "stdout",
     "output_type": "stream",
     "text": [
      "(6, 8, 512, 512, 1)\n"
     ]
    }
   ],
   "source": [
    "size_x = (padded_large_image.shape[0]//512)*512\n",
    "size_y = (padded_large_image.shape[1]//512)*512\n",
    "padded_large_image = np.array(padded_large_image)\n",
    "padded_large_image = padded_large_image[0:size_x,0:size_y]\n",
    "patches_img = patchify(padded_large_image, (512,512,1), step=512)\n",
    "patches_img = patches_img[:,:,0,:,:,:]\n",
    "print(patches_img.shape)"
   ]
  },
  {
   "cell_type": "code",
   "execution_count": 16,
   "id": "2f9638cb",
   "metadata": {},
   "outputs": [
    {
     "name": "stderr",
     "output_type": "stream",
     "text": [
      "/tmp/ipykernel_34161/2748140099.py:15: RuntimeWarning: invalid value encountered in divide\n",
      "  n_image = (input_image - input_image.min()) / (input_image.max()- input_image.min())\n"
     ]
    },
    {
     "name": "stdout",
     "output_type": "stream",
     "text": [
      "time taken: 0.11886638402938843 min\n"
     ]
    },
    {
     "data": {
      "image/png": "[encoded data removed]",
      "text/plain": [
       "<Figure size 640x480 with 1 Axes>"
      ]
     },
     "metadata": {},
     "output_type": "display_data"
    }
   ],
   "source": [
    "start = t.time()\n",
    "\n",
    "patched_prediction = []\n",
    "for i in range(patches_img.shape[0]):\n",
    "    for j in range(patches_img.shape[1]):\n",
    "        single_patch_img = patches_img[i,j,:,:,:]\n",
    "        # Create a masked array where values greater than 0 are masked\n",
    "        masked_array = np.ma.masked_greater(single_patch_img, -10)\n",
    "        # Calculate median of the unmasked values\n",
    "        single_patch_img[(single_patch_img >= -10)] = np.ma.median(masked_array)\n",
    "        single_patch_img = normalise(single_patch_img)\n",
    "        single_patch_img = tf.convert_to_tensor(single_patch_img)\n",
    "        single_patch_img = np.expand_dims(single_patch_img, axis=0)\n",
    "        single_patch_img = np.expand_dims(single_patch_img, axis=-1)\n",
    "        unet_patchify_pred = unet.predict(single_patch_img, verbose=0)\n",
    "        deeplab_patchify_pred = deeplab.predict(single_patch_img, verbose=0)\n",
    "        weighted_patchify_pred = np.tensordot(np.array([deeplab_patchify_pred, unet_patchify_pred]), [0.6, 0.4], axes=((0),(0)))\n",
    "        weighted_patchify_pred_t = (weighted_patchify_pred > 0.5).astype(np.uint8)\n",
    "        weighted_patchify_pred_t = np.squeeze(weighted_patchify_pred_t)\n",
    "        weighted_patchify_pred_t = remove_small_regions(weighted_patchify_pred_t, 900)\n",
    "        patched_prediction.append(weighted_patchify_pred_t)\n",
    "\n",
    "\n",
    "patched_prediction = np.array(patched_prediction)\n",
    "patched_prediction = np.reshape(patched_prediction, [patches_img.shape[0], patches_img.shape[1], \n",
    "                                            patches_img.shape[2], patches_img.shape[3]])\n",
    "\n",
    "unpatched_prediction = unpatchify(patched_prediction, (padded_large_image.shape[0], padded_large_image.shape[1]))\n",
    "unpadded_prediction = unpad_image(unpatched_prediction, unpadded_large_image)\n",
    "\n",
    "end = t.time()\n",
    "time_taken = (end - start)/60\n",
    "print(f'time taken: {time_taken} min')\n",
    "\n",
    "plt.imshow(unpadded_prediction)\n",
    "plt.axis('off')\n",
    "plt.show()"
   ]
  },
  {
   "cell_type": "markdown",
   "id": "6154cbe1",
   "metadata": {},
   "source": [
    "# Copy coordinate system information and transformation parameters from original image"
   ]
  },
  {
   "cell_type": "code",
   "execution_count": 17,
   "id": "0b580937",
   "metadata": {},
   "outputs": [
    {
     "name": "stdout",
     "output_type": "stream",
     "text": [
      "{'driver': 'GTiff', 'dtype': 'float32', 'nodata': None, 'width': 3949, 'height': 2682, 'count': 1, 'crs': CRS.from_epsg(4326), 'transform': Affine(0.0007186522272956172, 0.0, 55.69757410086729,\n",
      "       0.0, -0.0007186522272956172, 26.495346820195262), 'tiled': False, 'interleave': 'band'}\n"
     ]
    }
   ],
   "source": [
    "#Copy metadata from original GeoTIFF file\n",
    "with rasterio.open(\"./20220217T141650_preprocessed.tif\") as dataset:\n",
    "    \n",
    "    img = dataset.read()\n",
    " \n",
    "    # Get a copy of the source dataset's profile. Thus our\n",
    "    # destination dataset will have the same georeferencing as the\n",
    "    # source dataset.\n",
    "    transform = dataset.transform\n",
    "    extent = dataset.bounds\n",
    "    left, bottom, right, top = extent\n",
    "    kwds = dataset.profile\n",
    "\n",
    "    print(kwds)"
   ]
  },
  {
   "cell_type": "markdown",
   "id": "4b9663f7",
   "metadata": {},
   "source": [
    "# Save the oilspill prediction polygon as a Geopackage or Shapefile"
   ]
  },
  {
   "cell_type": "code",
   "execution_count": 18,
   "id": "4e0309a3",
   "metadata": {},
   "outputs": [],
   "source": [
    "polys = mask_to_polygons_layer(unpadded_prediction)\n",
    "\n",
    "polys_gdf = gpd.GeoDataFrame({'id': [1],\n",
    "                        'name': ['oil spill']}, geometry=[polys])\n",
    "polys_gdf = polys_gdf.set_crs(epsg=4326)\n",
    "\n",
    "polys_gdf.to_file('oilspills.gpkg', driver='GPKG', layer='test_image_3_oilspill')  "
   ]
  },
  {
   "cell_type": "markdown",
   "id": "c33868ef",
   "metadata": {},
   "source": [
    "# Plot the model's predictions on a map"
   ]
  },
  {
   "cell_type": "code",
   "execution_count": 23,
   "id": "73c6d6c4",
   "metadata": {},
   "outputs": [
    {
     "data": {
      "text/html": [
       "<div style=\"width:100%;\"><div style=\"position:relative;width:100%;height:0;padding-bottom:60%;\"><span style=\"color:#565656\">Make this Notebook Trusted to load map: File -> Trust Notebook</span><iframe srcdoc=\"&lt;!DOCTYPE html&gt;\n",
       "&lt;html&gt;\n",
       "&lt;head&gt;\n",
       "    \n",
       "    &lt;meta http-equiv=&quot;content-type&quot; content=&quot;text/html; charset=UTF-8&quot; /&gt;\n",
       "    \n",
       "        &lt;script&gt;\n",
       "            L_NO_TOUCH = false;\n",
       "            L_DISABLE_3D = false;\n",
       "        &lt;/script&gt;\n",
       "    \n",
       "    &lt;style&gt;html, body {width: 100%;height: 100%;margin: 0;padding: 0;}&lt;/style&gt;\n",
       "    &lt;style&gt;#map {position:absolute;top:0;bottom:0;right:0;left:0;}&lt;/style&gt;\n",
       "    &lt;script src=&quot;https://cdn.jsdelivr.net/npm/leaflet@1.9.3/dist/leaflet.js&quot;&gt;&lt;/script&gt;\n",
       "    &lt;script src=&quot;https://code.jquery.com/jquery-1.12.4.min.js&quot;&gt;&lt;/script&gt;\n",
       "    &lt;script src=&quot;https://cdn.jsdelivr.net/npm/bootstrap@5.2.2/dist/js/bootstrap.bundle.min.js&quot;&gt;&lt;/script&gt;\n",
       "    &lt;script src=&quot;https://cdnjs.cloudflare.com/ajax/libs/Leaflet.awesome-markers/2.0.2/leaflet.awesome-markers.js&quot;&gt;&lt;/script&gt;\n",
       "    &lt;link rel=&quot;stylesheet&quot; href=&quot;https://cdn.jsdelivr.net/npm/leaflet@1.9.3/dist/leaflet.css&quot;/&gt;\n",
       "    &lt;link rel=&quot;stylesheet&quot; href=&quot;https://cdn.jsdelivr.net/npm/bootstrap@5.2.2/dist/css/bootstrap.min.css&quot;/&gt;\n",
       "    &lt;link rel=&quot;stylesheet&quot; href=&quot;https://netdna.bootstrapcdn.com/bootstrap/3.0.0/css/bootstrap.min.css&quot;/&gt;\n",
       "    &lt;link rel=&quot;stylesheet&quot; href=&quot;https://cdn.jsdelivr.net/npm/@fortawesome/fontawesome-free@6.2.0/css/all.min.css&quot;/&gt;\n",
       "    &lt;link rel=&quot;stylesheet&quot; href=&quot;https://cdnjs.cloudflare.com/ajax/libs/Leaflet.awesome-markers/2.0.2/leaflet.awesome-markers.css&quot;/&gt;\n",
       "    &lt;link rel=&quot;stylesheet&quot; href=&quot;https://cdn.jsdelivr.net/gh/python-visualization/folium/folium/templates/leaflet.awesome.rotate.min.css&quot;/&gt;\n",
       "    \n",
       "            &lt;meta name=&quot;viewport&quot; content=&quot;width=device-width,\n",
       "                initial-scale=1.0, maximum-scale=1.0, user-scalable=no&quot; /&gt;\n",
       "            &lt;style&gt;\n",
       "                #map_56563ad97d3347f601fc6a8e67737db6 {\n",
       "                    position: relative;\n",
       "                    width: 100.0%;\n",
       "                    height: 100.0%;\n",
       "                    left: 0.0%;\n",
       "                    top: 0.0%;\n",
       "                }\n",
       "                .leaflet-container { font-size: 1rem; }\n",
       "            &lt;/style&gt;\n",
       "        \n",
       "&lt;/head&gt;\n",
       "&lt;body&gt;\n",
       "    \n",
       "    \n",
       "&lt;div style=&quot;\n",
       "    position: fixed;\n",
       "    Top: 20px;\n",
       "    right: 20px;\n",
       "    background-color: white;\n",
       "    z-index: 1000;\n",
       "    padding: 10px;\n",
       "    border: 1px solid gray;\n",
       "&quot;&gt;\n",
       "    &lt;div style=&quot;margin-bottom: 5px;&quot;&gt;\n",
       "        &lt;strong&gt;Legend&lt;/strong&gt;\n",
       "    &lt;/div&gt;\n",
       "    &lt;div&gt;\n",
       "        &lt;span style=&quot;display: inline-block; width: 20px; height: 10px; background-color: lightblue; border: 1px solid blue;&quot;&gt;&lt;/span&gt;\n",
       "        &lt;span style=&quot;margin-left: 5px;&quot;&gt;Oil Spill&lt;/span&gt;\n",
       "    &lt;/div&gt;\n",
       "&lt;/div&gt;\n",
       "    \n",
       "            &lt;div class=&quot;folium-map&quot; id=&quot;map_56563ad97d3347f601fc6a8e67737db6&quot; &gt;&lt;/div&gt;\n",
       "        \n",
       "&lt;/body&gt;\n",
       "&lt;script&gt;\n",
       "    \n",
       "    \n",
       "            var map_56563ad97d3347f601fc6a8e67737db6 = L.map(\n",
       "                &quot;map_56563ad97d3347f601fc6a8e67737db6&quot;,\n",
       "                {\n",
       "                    center: [25.43289319281496, 56.93366601984834],\n",
       "                    crs: L.CRS.EPSG3857,\n",
       "                    zoom: 9,\n",
       "                    zoomControl: true,\n",
       "                    preferCanvas: false,\n",
       "                }\n",
       "            );\n",
       "            L.control.scale().addTo(map_56563ad97d3347f601fc6a8e67737db6);\n",
       "\n",
       "            \n",
       "\n",
       "        \n",
       "    \n",
       "            var tile_layer_1a5e2a68ec02113bef4a104c128991ea = L.tileLayer(\n",
       "                &quot;https://cartodb-basemaps-{s}.global.ssl.fastly.net/light_all/{z}/{x}/{y}.png&quot;,\n",
       "                {&quot;attribution&quot;: &quot;\\u0026copy; \\u003ca target=\\&quot;_blank\\&quot; href=\\&quot;http://www.openstreetmap.org/copyright\\&quot;\\u003eOpenStreetMap\\u003c/a\\u003e contributors \\u0026copy; \\u003ca target=\\&quot;_blank\\&quot; href=\\&quot;http://cartodb.com/attributions\\&quot;\\u003eCartoDB\\u003c/a\\u003e, CartoDB \\u003ca target=\\&quot;_blank\\&quot; href =\\&quot;http://cartodb.com/attributions\\&quot;\\u003eattributions\\u003c/a\\u003e&quot;, &quot;detectRetina&quot;: false, &quot;maxNativeZoom&quot;: 18, &quot;maxZoom&quot;: 18, &quot;minZoom&quot;: 0, &quot;noWrap&quot;: false, &quot;opacity&quot;: 1, &quot;subdomains&quot;: &quot;abc&quot;, &quot;tms&quot;: false}\n",
       "            ).addTo(map_56563ad97d3347f601fc6a8e67737db6);\n",
       "        \n",
       "    \n",
       "\n",
       "        function geo_json_bbe34d495b5edb0f8096fbb7dc0d8d40_onEachFeature(feature, layer) {\n",
       "            layer.on({\n",
       "            });\n",
       "        };\n",
       "        var geo_json_bbe34d495b5edb0f8096fbb7dc0d8d40 = L.geoJson(null, {\n",
       "                onEachFeature: geo_json_bbe34d495b5edb0f8096fbb7dc0d8d40_onEachFeature,\n",
       "            \n",
       "        });\n",
       "\n",
       "        function geo_json_bbe34d495b5edb0f8096fbb7dc0d8d40_add (data) {\n",
       "            geo_json_bbe34d495b5edb0f8096fbb7dc0d8d40\n",
       "                .addData(data)\n",
       "                .addTo(map_56563ad97d3347f601fc6a8e67737db6);\n",
       "        }\n",
       "            geo_json_bbe34d495b5edb0f8096fbb7dc0d8d40_add({&quot;features&quot;: [{&quot;geometry&quot;: {&quot;coordinates&quot;: [[[[56.53695990234857, 25.8169391176282], [56.53695990234857, 25.816220465400903], [56.53624125012128, 25.816220465400903], [56.52905472784832, 25.816220465400903], [56.52905472784832, 25.815501813173608], [56.52833607562103, 25.815501813173608], [56.52689877116644, 25.815501813173608], [56.52689877116644, 25.814783160946313], [56.52618011893914, 25.814783160946313], [56.52474281448455, 25.814783160946313], [56.52474281448455, 25.814064508719017], [56.524024162257255, 25.814064508719017], [56.520430901120776, 25.814064508719017], [56.520430901120776, 25.813345856491722], [56.51971224889348, 25.813345856491722], [56.513963031075114, 25.813345856491722], [56.513963031075114, 25.812627204264427], [56.513244378847816, 25.812627204264427], [56.511807074393225, 25.812627204264427], [56.511807074393225, 25.811189899809836], [56.51108842216593, 25.811189899809836], [56.50965111771134, 25.811189899809836], [56.50965111771134, 25.81047124758254], [56.508932465484044, 25.81047124758254], [56.50821381325675, 25.81047124758254], [56.50821381325675, 25.809752595355242], [56.50749516102945, 25.809752595355242], [56.506776508802155, 25.809752595355242], [56.506776508802155, 25.806159334218766], [56.50605785657486, 25.806159334218766], [56.50605785657486, 25.80544068199147], [56.505339204347564, 25.80544068199147], [56.505339204347564, 25.803284725309585], [56.50749516102945, 25.803284725309585], [56.50749516102945, 25.80256607308229], [56.50821381325675, 25.80256607308229], [56.50821381325675, 25.80184742085499], [56.508932465484044, 25.80184742085499], [56.508932465484044, 25.79897281194581], [56.50965111771134, 25.79897281194581], [56.50965111771134, 25.798254159718514], [56.513244378847816, 25.798254159718514], [56.513244378847816, 25.796816855263923], [56.514681683302406, 25.796816855263923], [56.514681683302406, 25.796098203036628], [56.516118987757004, 25.796098203036628], [56.516118987757004, 25.794660898582034], [56.518274944438886, 25.794660898582034], [56.518274944438886, 25.796816855263923], [56.516837639984296, 25.796816855263923], [56.516837639984296, 25.798254159718514], [56.517556292211594, 25.798254159718514], [56.518274944438886, 25.798254159718514], [56.518274944438886, 25.799691464173105], [56.518993596666185, 25.799691464173105], [56.518993596666185, 25.79897281194581], [56.51971224889348, 25.79897281194581], [56.51971224889348, 25.798254159718514], [56.521868205575366, 25.798254159718514], [56.521868205575366, 25.796816855263923], [56.52258685780266, 25.796816855263923], [56.52258685780266, 25.796098203036628], [56.52474281448455, 25.796098203036628], [56.52474281448455, 25.795379550809333], [56.525461466711846, 25.795379550809333], [56.525461466711846, 25.792504941900148], [56.53049203230292, 25.792504941900148], [56.53049203230292, 25.794660898582034], [56.53121068453021, 25.794660898582034], [56.53121068453021, 25.796098203036628], [56.53192933675751, 25.796098203036628], [56.53192933675751, 25.79753550749122], [56.5326479889848, 25.79753550749122], [56.5326479889848, 25.798254159718514], [56.5333666412121, 25.798254159718514], [56.5333666412121, 25.799691464173105], [56.53408529343939, 25.799691464173105], [56.53408529343939, 25.8004101164004], [56.53552259789398, 25.8004101164004], [56.53624125012128, 25.8004101164004], [56.53624125012128, 25.801128768627695], [56.53767855457587, 25.801128768627695], [56.53839720680317, 25.801128768627695], [56.53839720680317, 25.80400337753688], [56.53911585903046, 25.80400337753688], [56.53983451125776, 25.80400337753688], [56.53983451125776, 25.80687798644606], [56.54055316348505, 25.80687798644606], [56.54127181571235, 25.80687798644606], [56.54127181571235, 25.807596638673356], [56.54199046793964, 25.807596638673356], [56.54199046793964, 25.80831529090065], [56.54270912016694, 25.80831529090065], [56.54270912016694, 25.809033943127947], [56.54342777239423, 25.809033943127947], [56.54342777239423, 25.81047124758254], [56.54414642462153, 25.81047124758254], [56.54414642462153, 25.81190855203713], [56.54486507684882, 25.81190855203713], [56.54486507684882, 25.814064508719017], [56.54414642462153, 25.814064508719017], [56.54414642462153, 25.815501813173608], [56.54342777239423, 25.815501813173608], [56.54342777239423, 25.816220465400903], [56.54199046793964, 25.816220465400903], [56.54199046793964, 25.8169391176282], [56.53695990234857, 25.8169391176282]], [[56.511807074393225, 25.81047124758254], [56.511807074393225, 25.809752595355242], [56.512525726620524, 25.809752595355242], [56.512525726620524, 25.809033943127947], [56.515400335529705, 25.809033943127947], [56.515400335529705, 25.81047124758254], [56.511807074393225, 25.81047124758254]]], [[[56.820108879903046, 25.655242366486686], [56.820108879903046, 25.65452371425939], [56.819390227675754, 25.65452371425939], [56.818671575448455, 25.65452371425939], [56.818671575448455, 25.6530864098048], [56.817952923221156, 25.6530864098048], [56.817952923221156, 25.652367757577505], [56.817234270993865, 25.652367757577505], [56.817234270993865, 25.65164910535021], [56.816515618766566, 25.65164910535021], [56.816515618766566, 25.64518123530455], [56.815796966539274, 25.64518123530455], [56.815796966539274, 25.638713365258887], [56.814359662084684, 25.638713365258887], [56.814359662084684, 25.639432017486183], [56.813641009857385, 25.639432017486183], [56.813641009857385, 25.644462583077253], [56.81292235763009, 25.644462583077253], [56.81292235763009, 25.645899887531844], [56.810766400948204, 25.645899887531844], [56.810766400948204, 25.64518123530455], [56.810047748720905, 25.64518123530455], [56.810047748720905, 25.645899887531844], [56.80789179203902, 25.645899887531844], [56.80789179203902, 25.64518123530455], [56.807173139811724, 25.64518123530455], [56.807173139811724, 25.644462583077253], [56.80645448758443, 25.644462583077253], [56.80645448758443, 25.643743930849958], [56.80573583535713, 25.643743930849958], [56.80573583535713, 25.64158797416807], [56.80501718312984, 25.64158797416807], [56.80501718312984, 25.640150669713478], [56.80429853090254, 25.640150669713478], [56.80429853090254, 25.638713365258887], [56.80357987867525, 25.638713365258887], [56.80357987867525, 25.637994713031592], [56.80286122644795, 25.637994713031592], [56.80142392199336, 25.637994713031592], [56.80142392199336, 25.632245495213226], [56.80070526976606, 25.632245495213226], [56.79926796531147, 25.632245495213226], [56.79926796531147, 25.635838756349706], [56.79854931308418, 25.635838756349706], [56.79854931308418, 25.636557408577], [56.79639335640229, 25.636557408577], [56.79639335640229, 25.635838756349706], [56.795674704175, 25.635838756349706], [56.79064413858393, 25.635838756349706], [56.79064413858393, 25.635120104122407], [56.78992548635663, 25.635120104122407], [56.78992548635663, 25.634401451895112], [56.78920683412934, 25.634401451895112], [56.78920683412934, 25.633682799667817], [56.78848818190204, 25.633682799667817], [56.78848818190204, 25.63296414744052], [56.78561357299286, 25.63296414744052], [56.78561357299286, 25.635120104122407], [56.78417626853827, 25.635120104122407], [56.78417626853827, 25.635838756349706], [56.7791457029472, 25.635838756349706], [56.7791457029472, 25.636557408577], [56.7784270507199, 25.636557408577], [56.7784270507199, 25.637276060804297], [56.77770839849261, 25.637276060804297], [56.77770839849261, 25.638713365258887], [56.77195918067424, 25.638713365258887], [56.77195918067424, 25.639432017486183], [56.771240528446945, 25.639432017486183], [56.771240528446945, 25.640150669713478], [56.77052187621965, 25.640150669713478], [56.77052187621965, 25.640869321940773], [56.767647267310466, 25.640869321940773], [56.767647267310466, 25.640150669713478], [56.766928615083174, 25.640150669713478], [56.766928615083174, 25.639432017486183], [56.766209962855875, 25.639432017486183], [56.76549131062858, 25.639432017486183], [56.76549131062858, 25.638713365258887], [56.762616701719395, 25.638713365258887], [56.762616701719395, 25.639432017486183], [56.7618980494921, 25.639432017486183], [56.7618980494921, 25.640150669713478], [56.761179397264804, 25.640150669713478], [56.761179397264804, 25.640869321940773], [56.75830478835562, 25.640869321940773], [56.75830478835562, 25.640150669713478], [56.757586136128324, 25.640150669713478], [56.757586136128324, 25.639432017486183], [56.75686748390103, 25.639432017486183], [56.75686748390103, 25.638713365258887], [56.75327422276455, 25.638713365258887], [56.75327422276455, 25.639432017486183], [56.75111826608267, 25.639432017486183], [56.75111826608267, 25.638713365258887], [56.75039961385537, 25.638713365258887], [56.74896230940078, 25.638713365258887], [56.74896230940078, 25.637994713031592], [56.74824365717348, 25.637994713031592], [56.7460877004916, 25.637994713031592], [56.7460877004916, 25.637276060804297], [56.74465039603701, 25.637276060804297], [56.74465039603701, 25.637994713031592], [56.74177578712782, 25.637994713031592], [56.74177578712782, 25.637276060804297], [56.74105713490053, 25.637276060804297], [56.74105713490053, 25.636557408577], [56.74033848267323, 25.636557408577], [56.74033848267323, 25.635838756349706], [56.73961983044594, 25.635838756349706], [56.73961983044594, 25.635120104122407], [56.73890117821864, 25.635120104122407], [56.73890117821864, 25.634401451895112], [56.73818252599135, 25.634401451895112], [56.73818252599135, 25.63296414744052], [56.73746387376405, 25.63296414744052], [56.73602656930946, 25.63296414744052], [56.73602656930946, 25.632245495213226], [56.73530791708217, 25.632245495213226], [56.73530791708217, 25.630808190758636], [56.73458926485487, 25.630808190758636], [56.73458926485487, 25.62793358184945], [56.73387061262757, 25.62793358184945], [56.73387061262757, 25.627214929622156], [56.73315196040028, 25.627214929622156], [56.73315196040028, 25.625777625167565], [56.73243330817298, 25.625777625167565], [56.73243330817298, 25.62505897294027], [56.73171465594569, 25.62505897294027], [56.73171465594569, 25.624340320712975], [56.73099600371839, 25.624340320712975], [56.73099600371839, 25.62362166848568], [56.7302773514911, 25.62362166848568], [56.7302773514911, 25.620747059576495], [56.73315196040028, 25.620747059576495], [56.73315196040028, 25.621465711803793], [56.73458926485487, 25.621465711803793], [56.73458926485487, 25.620747059576495], [56.73530791708217, 25.620747059576495], [56.73530791708217, 25.619309755121904], [56.73602656930946, 25.619309755121904], [56.73602656930946, 25.617872450667313], [56.73674522153676, 25.617872450667313], [56.73674522153676, 25.617153798440018], [56.74177578712782, 25.617153798440018], [56.74177578712782, 25.616435146212723], [56.75399287499185, 25.616435146212723], [56.75399287499185, 25.617153798440018], [56.75902344058292, 25.617153798440018], [56.75902344058292, 25.616435146212723], [56.7618980494921, 25.616435146212723], [56.7618980494921, 25.617153798440018], [56.766209962855875, 25.617153798440018], [56.766209962855875, 25.616435146212723], [56.77195918067424, 25.616435146212723], [56.77195918067424, 25.617153798440018], [56.776271094038016, 25.617153798440018], [56.77698974626531, 25.617153798440018], [56.77698974626531, 25.617872450667313], [56.77770839849261, 25.617872450667313], [56.77770839849261, 25.61859110289461], [56.77986435517449, 25.61859110289461], [56.78058300740179, 25.61859110289461], [56.78058300740179, 25.619309755121904], [56.78202031185638, 25.619309755121904], [56.78273896408368, 25.619309755121904], [56.78273896408368, 25.6200284073492], [56.78417626853827, 25.6200284073492], [56.78489492076556, 25.6200284073492], [56.78489492076556, 25.620747059576495], [56.78561357299286, 25.620747059576495], [56.78561357299286, 25.621465711803793], [56.78633222522015, 25.621465711803793], [56.78633222522015, 25.622903016258384], [56.78705087744745, 25.622903016258384], [56.78705087744745, 25.624340320712975], [56.78776952967475, 25.624340320712975], [56.78848818190204, 25.624340320712975], [56.78848818190204, 25.625777625167565], [56.78920683412934, 25.625777625167565], [56.78920683412934, 25.62362166848568], [56.78992548635663, 25.62362166848568], [56.78992548635663, 25.622903016258384], [56.79064413858393, 25.622903016258384], [56.79064413858393, 25.62218436403109], [56.79711200862959, 25.62218436403109], [56.79711200862959, 25.622903016258384], [56.79854931308418, 25.622903016258384], [56.79926796531147, 25.622903016258384], [56.79926796531147, 25.62362166848568], [56.79998661753877, 25.62362166848568], [56.79998661753877, 25.624340320712975], [56.80070526976606, 25.624340320712975], [56.80142392199336, 25.624340320712975], [56.80142392199336, 25.62793358184945], [56.80429853090254, 25.62793358184945], [56.80429853090254, 25.62649627739486], [56.80501718312984, 25.62649627739486], [56.80501718312984, 25.625777625167565], [56.810766400948204, 25.625777625167565], [56.810766400948204, 25.62649627739486], [56.812203705402794, 25.62649627739486], [56.81292235763009, 25.62649627739486], [56.81292235763009, 25.627214929622156], [56.813641009857385, 25.627214929622156], [56.814359662084684, 25.627214929622156], [56.814359662084684, 25.62793358184945], [56.815078314311975, 25.62793358184945], [56.815078314311975, 25.630808190758636], [56.816515618766566, 25.630808190758636], [56.817234270993865, 25.630808190758636], [56.817234270993865, 25.63152684298593], [56.820108879903046, 25.63152684298593], [56.820827532130345, 25.63152684298593], [56.820827532130345, 25.632245495213226], [56.821546184357636, 25.632245495213226], [56.821546184357636, 25.63296414744052], [56.822264836584935, 25.63296414744052], [56.82298348881223, 25.63296414744052], [56.82298348881223, 25.633682799667817], [56.823702141039526, 25.633682799667817], [56.823702141039526, 25.634401451895112], [56.82442079326682, 25.634401451895112], [56.825139445494116, 25.634401451895112], [56.825139445494116, 25.635120104122407], [56.82585809772141, 25.635120104122407], [56.82585809772141, 25.635838756349706], [56.82657674994871, 25.635838756349706], [56.82657674994871, 25.636557408577], [56.827295402176006, 25.636557408577], [56.8280140544033, 25.636557408577], [56.8280140544033, 25.637276060804297], [56.828732706630596, 25.637276060804297], [56.82945135885789, 25.637276060804297], [56.82945135885789, 25.637994713031592], [56.83017001108519, 25.637994713031592], [56.83017001108519, 25.638713365258887], [56.83088866331248, 25.638713365258887], [56.83088866331248, 25.639432017486183], [56.83160731553978, 25.639432017486183], [56.83160731553978, 25.640150669713478], [56.83232596776707, 25.640150669713478], [56.83232596776707, 25.640869321940773], [56.83304461999437, 25.640869321940773], [56.83376327222167, 25.640869321940773], [56.83376327222167, 25.64158797416807], [56.83520057667626, 25.64158797416807], [56.83520057667626, 25.640869321940773], [56.83807518558544, 25.640869321940773], [56.83807518558544, 25.64158797416807], [56.83879383781273, 25.64158797416807], [56.83879383781273, 25.642306626395364], [56.83951249004003, 25.642306626395364], [56.83951249004003, 25.64302527862266], [56.84023114226732, 25.64302527862266], [56.84023114226732, 25.643743930849958], [56.84526170785839, 25.643743930849958], [56.84598036008569, 25.643743930849958], [56.84598036008569, 25.644462583077253], [56.84741766454028, 25.644462583077253], [56.84813631676757, 25.644462583077253], [56.84813631676757, 25.64518123530455], [56.84957362122217, 25.64518123530455], [56.85029227344946, 25.64518123530455], [56.85029227344946, 25.645899887531844], [56.85101092567676, 25.645899887531844], [56.85101092567676, 25.64661853975914], [56.85172957790405, 25.64661853975914], [56.85172957790405, 25.647337191986434], [56.85460418681323, 25.647337191986434], [56.85532283904053, 25.647337191986434], [56.85532283904053, 25.650211800895615], [56.85244823013135, 25.650211800895615], [56.85244823013135, 25.65093045312291], [56.85172957790405, 25.65093045312291], [56.85172957790405, 25.65164910535021], [56.85101092567676, 25.65164910535021], [56.85101092567676, 25.652367757577505], [56.85029227344946, 25.652367757577505], [56.85029227344946, 25.6530864098048], [56.84957362122217, 25.6530864098048], [56.84957362122217, 25.65452371425939], [56.84813631676757, 25.65452371425939], [56.84813631676757, 25.655242366486686], [56.84526170785839, 25.655242366486686], [56.84526170785839, 25.65452371425939], [56.8445430556311, 25.65452371425939], [56.8438244034038, 25.65452371425939], [56.8438244034038, 25.653805062032095], [56.84310575117651, 25.653805062032095], [56.84310575117651, 25.6530864098048], [56.84238709894921, 25.6530864098048], [56.84238709894921, 25.652367757577505], [56.84166844672192, 25.652367757577505], [56.84166844672192, 25.65093045312291], [56.84094979449462, 25.65093045312291], [56.84094979449462, 25.650211800895615], [56.84023114226732, 25.650211800895615], [56.83879383781273, 25.650211800895615], [56.83879383781273, 25.64949314866832], [56.83807518558544, 25.64949314866832], [56.83735653335814, 25.64949314866832], [56.83735653335814, 25.645899887531844], [56.83663788113085, 25.645899887531844], [56.83663788113085, 25.64661853975914], [56.83376327222167, 25.64661853975914], [56.83376327222167, 25.647337191986434], [56.83304461999437, 25.647337191986434], [56.83304461999437, 25.648774496441025], [56.83232596776707, 25.648774496441025], [56.83232596776707, 25.650211800895615], [56.83017001108519, 25.650211800895615], [56.83017001108519, 25.648774496441025], [56.82945135885789, 25.648774496441025], [56.82945135885789, 25.650211800895615], [56.8280140544033, 25.650211800895615], [56.8280140544033, 25.652367757577505], [56.82657674994871, 25.652367757577505], [56.82657674994871, 25.6530864098048], [56.82585809772141, 25.6530864098048], [56.82585809772141, 25.653805062032095], [56.823702141039526, 25.653805062032095], [56.823702141039526, 25.6530864098048], [56.82298348881223, 25.6530864098048], [56.82298348881223, 25.65452371425939], [56.822264836584935, 25.65452371425939], [56.822264836584935, 25.655242366486686], [56.820108879903046, 25.655242366486686]], [[56.80501718312984, 25.632245495213226], [56.80501718312984, 25.63008953853134], [56.80429853090254, 25.63008953853134], [56.80429853090254, 25.630808190758636], [56.80357987867525, 25.630808190758636], [56.80357987867525, 25.63152684298593], [56.80142392199336, 25.63152684298593], [56.80142392199336, 25.632245495213226], [56.80357987867525, 25.632245495213226], [56.80429853090254, 25.632245495213226], [56.80429853090254, 25.63296414744052], [56.80501718312984, 25.63296414744052], [56.80501718312984, 25.635120104122407], [56.80573583535713, 25.635120104122407], [56.80573583535713, 25.634401451895112], [56.80645448758443, 25.634401451895112], [56.80645448758443, 25.63296414744052], [56.80573583535713, 25.63296414744052], [56.80573583535713, 25.632245495213226], [56.80501718312984, 25.632245495213226]], [[56.79064413858393, 25.63152684298593], [56.79208144303852, 25.63152684298593], [56.79208144303852, 25.62793358184945], [56.79064413858393, 25.62793358184945], [56.79064413858393, 25.63152684298593]], [[56.816515618766566, 25.637994713031592], [56.816515618766566, 25.637276060804297], [56.817234270993865, 25.637276060804297], [56.817234270993865, 25.637994713031592], [56.816515618766566, 25.637994713031592]]], [[[57.35622344146558, 25.004862100784152], [57.35622344146558, 25.004143448556857], [57.35550478923828, 25.004143448556857], [57.35334883255639, 25.004143448556857], [57.35334883255639, 25.00342479632956], [57.3526301803291, 25.00342479632956], [57.34831826696532, 25.00342479632956], [57.34831826696532, 25.002706144102266], [57.34759961473803, 25.002706144102266], [57.34256904914696, 25.002706144102266], [57.34256904914696, 25.00198749187497], [57.34185039691967, 25.00198749187497], [57.33897578801048, 25.00198749187497], [57.33897578801048, 25.001268839647675], [57.33825713578319, 25.001268839647675], [57.33466387464671, 25.001268839647675], [57.33466387464671, 25.00055018742038], [57.333945222419416, 25.00055018742038], [57.330351961282936, 25.00055018742038], [57.330351961282936, 24.99983153519308], [57.32963330905564, 24.99983153519308], [57.326040047919165, 24.99983153519308], [57.326040047919165, 24.999112882965786], [57.325321395691866, 24.999112882965786], [57.321728134555386, 24.999112882965786], [57.321728134555386, 24.99839423073849], [57.321009482328094, 24.99839423073849], [57.317416221191614, 24.99839423073849], [57.317416221191614, 24.997675578511195], [57.316697568964315, 24.997675578511195], [57.31310430782784, 24.997675578511195], [57.31310430782784, 24.9969569262839], [57.31238565560054, 24.9969569262839], [57.308792394464064, 24.9969569262839], [57.308792394464064, 24.996238274056605], [57.30807374223677, 24.996238274056605], [57.30591778555488, 24.996238274056605], [57.30591778555488, 24.99551962182931], [57.30519913332759, 24.99551962182931], [57.30448048110029, 24.99551962182931], [57.30448048110029, 24.994800969602014], [57.303761828873, 24.994800969602014], [57.30160587219111, 24.994800969602014], [57.30160587219111, 24.99408231737472], [57.30088721996381, 24.99408231737472], [57.29873126328193, 24.99408231737472], [57.29873126328193, 24.993363665147424], [57.29801261105463, 24.993363665147424], [57.29729395882734, 24.993363665147424], [57.29729395882734, 24.989770404010944], [57.29657530660004, 24.989770404010944], [57.29657530660004, 24.98905175178365], [57.29585665437275, 24.98905175178365], [57.29585665437275, 24.986177142874467], [57.29657530660004, 24.986177142874467], [57.29657530660004, 24.985458490647172], [57.29729395882734, 24.985458490647172], [57.29729395882734, 24.983302533965283], [57.29801261105463, 24.983302533965283], [57.29801261105463, 24.982583881737987], [57.29873126328193, 24.982583881737987], [57.29873126328193, 24.9804279250561], [57.29801261105463, 24.9804279250561], [57.29801261105463, 24.97683466391962], [57.29729395882734, 24.97683466391962], [57.29729395882734, 24.974678707237736], [57.29657530660004, 24.974678707237736], [57.29657530660004, 24.97252275055585], [57.29729395882734, 24.97252275055585], [57.29729395882734, 24.971804098328555], [57.29801261105463, 24.971804098328555], [57.29801261105463, 24.97108544610126], [57.29873126328193, 24.97108544610126], [57.29873126328193, 24.970366793873964], [57.30016856773652, 24.970366793873964], [57.30016856773652, 24.969648141646665], [57.30160587219111, 24.969648141646665], [57.30160587219111, 24.96892948941937], [57.3030431766457, 24.96892948941937], [57.3030431766457, 24.968210837192075], [57.30591778555488, 24.968210837192075], [57.30591778555488, 24.96749218496478], [57.30807374223677, 24.96749218496478], [57.30807374223677, 24.966773532737484], [57.31310430782784, 24.966773532737484], [57.31310430782784, 24.96749218496478], [57.318853525646205, 24.96749218496478], [57.3195721778735, 24.96749218496478], [57.3195721778735, 24.968210837192075], [57.320290830100795, 24.968210837192075], [57.321009482328094, 24.968210837192075], [57.321009482328094, 24.971804098328555], [57.320290830100795, 24.971804098328555], [57.320290830100795, 24.97252275055585], [57.31813487341891, 24.97252275055585], [57.31813487341891, 24.97396005501044], [57.3195721778735, 24.97396005501044], [57.320290830100795, 24.97396005501044], [57.320290830100795, 24.974678707237736], [57.321009482328094, 24.974678707237736], [57.321009482328094, 24.97539735946503], [57.321728134555386, 24.97539735946503], [57.321728134555386, 24.976116011692326], [57.322446786782685, 24.976116011692326], [57.322446786782685, 24.97755331614692], [57.323165439009976, 24.97755331614692], [57.323884091237275, 24.97755331614692], [57.323884091237275, 24.978271968374216], [57.326040047919165, 24.978271968374216], [57.326040047919165, 24.97683466391962], [57.326758700146456, 24.97683466391962], [57.326758700146456, 24.976116011692326], [57.326040047919165, 24.976116011692326], [57.326040047919165, 24.974678707237736], [57.325321395691866, 24.974678707237736], [57.325321395691866, 24.97252275055585], [57.326040047919165, 24.97252275055585], [57.326040047919165, 24.971804098328555], [57.330351961282936, 24.971804098328555], [57.330351961282936, 24.97108544610126], [57.33107061351023, 24.97108544610126], [57.33107061351023, 24.970366793873964], [57.33178926573753, 24.970366793873964], [57.33178926573753, 24.969648141646665], [57.33250791796482, 24.969648141646665], [57.33250791796482, 24.96892948941937], [57.33538252687401, 24.96892948941937], [57.33538252687401, 24.971804098328555], [57.33466387464671, 24.971804098328555], [57.33466387464671, 24.97252275055585], [57.33322657019212, 24.97252275055585], [57.33322657019212, 24.97396005501044], [57.333945222419416, 24.97396005501044], [57.333945222419416, 24.974678707237736], [57.33466387464671, 24.974678707237736], [57.33538252687401, 24.974678707237736], [57.33538252687401, 24.97539735946503], [57.3368198313286, 24.97539735946503], [57.33753848355589, 24.97539735946503], [57.33753848355589, 24.976116011692326], [57.33825713578319, 24.976116011692326], [57.33897578801048, 24.976116011692326], [57.33897578801048, 24.97683466391962], [57.33969444023778, 24.97683466391962], [57.33969444023778, 24.97755331614692], [57.34041309246507, 24.97755331614692], [57.34041309246507, 24.978271968374216], [57.34113174469237, 24.978271968374216], [57.34185039691967, 24.978271968374216], [57.34185039691967, 24.97899062060151], [57.34328770137426, 24.97899062060151], [57.34400635360155, 24.97899062060151], [57.34400635360155, 24.979709272828806], [57.34472500582885, 24.979709272828806], [57.34472500582885, 24.9804279250561], [57.34544365805614, 24.9804279250561], [57.34544365805614, 24.981146577283397], [57.34616231028344, 24.981146577283397], [57.34616231028344, 24.984021186192578], [57.34544365805614, 24.984021186192578], [57.34544365805614, 24.988333099556353], [57.34472500582885, 24.988333099556353], [57.34472500582885, 24.993363665147424], [57.34544365805614, 24.993363665147424], [57.34544365805614, 24.994800969602014], [57.34616231028344, 24.994800969602014], [57.34616231028344, 24.99551962182931], [57.34759961473803, 24.99551962182931], [57.34831826696532, 24.99551962182931], [57.34831826696532, 24.99839423073849], [57.34759961473803, 24.99839423073849], [57.34759961473803, 24.999112882965786], [57.34903691919262, 24.999112882965786], [57.34975557141992, 24.999112882965786], [57.34975557141992, 24.99983153519308], [57.35334883255639, 24.99983153519308], [57.35406748478369, 24.99983153519308], [57.35406748478369, 25.00055018742038], [57.35694209369287, 25.00055018742038], [57.35766074592017, 25.00055018742038], [57.35766074592017, 25.001268839647675], [57.35837939814746, 25.001268839647675], [57.35837939814746, 25.00198749187497], [57.35909805037476, 25.00198749187497], [57.35909805037476, 25.002706144102266], [57.35981670260205, 25.002706144102266], [57.36053535482935, 25.002706144102266], [57.36053535482935, 25.004862100784152], [57.35622344146558, 25.004862100784152]], [[57.325321395691866, 24.988333099556353], [57.325321395691866, 24.986895795101763], [57.326758700146456, 24.986895795101763], [57.326758700146456, 24.988333099556353], [57.325321395691866, 24.988333099556353]], [[57.33969444023778, 24.991207708465534], [57.33969444023778, 24.989770404010944], [57.34185039691967, 24.989770404010944], [57.34185039691967, 24.991207708465534], [57.33969444023778, 24.991207708465534]]]], &quot;type&quot;: &quot;MultiPolygon&quot;}, &quot;id&quot;: &quot;0&quot;, &quot;properties&quot;: {&quot;id&quot;: 1, &quot;name&quot;: &quot;oil spill&quot;}, &quot;type&quot;: &quot;Feature&quot;}], &quot;type&quot;: &quot;FeatureCollection&quot;});\n",
       "\n",
       "        \n",
       "&lt;/script&gt;\n",
       "&lt;/html&gt;\" style=\"position:absolute;width:100%;height:100%;left:0;top:0;border:none !important;\" allowfullscreen webkitallowfullscreen mozallowfullscreen></iframe></div></div>"
      ],
      "text/plain": [
       "<folium.folium.Map at 0x7f9054fdbc40>"
      ]
     },
     "metadata": {},
     "output_type": "display_data"
    }
   ],
   "source": [
    "#Find the centroid to position the map\n",
    "centroidp = MultiPolygon(polys).centroid\n",
    "\n",
    "long = centroidp.x\n",
    "lat = centroidp.y\n",
    "\n",
    "#Convert oil spill extent polygon to GeoJSON\n",
    "polys_geojson = polys_gdf.to_json()\n",
    "\n",
    "# Create folium map\n",
    "mymap = folium.Map(location=[lat, long], tiles='CartoDB positron', zoom_start=9, control_scale = True)\n",
    "# Convert the GeoTIFF image data to an image overlay\n",
    "\n",
    "# Convert polys to GeoJson and add to map\n",
    "plotpoly =folium.features.GeoJson(polys_geojson)\n",
    "\n",
    "mymap.add_child(plotpoly)\n",
    "\n",
    "# Define the legend HTML\n",
    "legend_html = \"\"\"\n",
    "<div style=\"\n",
    "    position: fixed;\n",
    "    Top: 20px;\n",
    "    right: 20px;\n",
    "    background-color: white;\n",
    "    z-index: 1000;\n",
    "    padding: 10px;\n",
    "    border: 1px solid gray;\n",
    "\">\n",
    "    <div style=\"margin-bottom: 5px;\">\n",
    "        <strong>Legend</strong>\n",
    "    </div>\n",
    "    <div>\n",
    "        <span style=\"display: inline-block; width: 20px; height: 10px; background-color: lightblue; border: 1px solid blue;\"></span>\n",
    "        <span style=\"margin-left: 5px;\">Oil Spill</span>\n",
    "    </div>\n",
    "</div>\n",
    "\"\"\"\n",
    "\n",
    "# Add the legend HTML as an HTML overlay to the map\n",
    "mymap.get_root().html.add_child(folium.Element(legend_html))\n",
    "\n",
    "display(mymap)"
   ]
  }
 ],
 "metadata": {
  "kernelspec": {
   "display_name": "Python 3 (ipykernel)",
   "language": "python",
   "name": "python3"
  },
  "language_info": {
   "codemirror_mode": {
    "name": "ipython",
    "version": 3
   },
   "file_extension": ".py",
   "mimetype": "text/x-python",
   "name": "python",
   "nbconvert_exporter": "python",
   "pygments_lexer": "ipython3",
   "version": "3.9.16"
  }
 },
 "nbformat": 4,
 "nbformat_minor": 5
}
